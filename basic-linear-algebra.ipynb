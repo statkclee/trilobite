{
 "cells": [
  {
   "cell_type": "markdown",
   "metadata": {},
   "source": [
    "## 1. 중학교 시절을 회고하며...\n",
    "\n",
    "대수를 사용해서 미지의 수 $x$ 한개를 놓고 푸는 것을 넘어, 미지수를 두개 넣고 방정식을 푸는 것을 이원일차 연립방정식이라고 부른다.\n",
    "\n",
    "* 미지수 $x$가 하나일 경우 수식이 하나 주어지면 미지수를 구할 수 있다.\n",
    "    * 예를 들어, 미지수 $x$가 하나, 수식이 하나 $x-3=4$ 주어지면, $x=7$\n",
    "* 미지수 $x$가 두개인 경우 수식이 최수 두개(두 수식도 일정 조건이 만족된다고 가정하면) 주어야 미지수 두개를 유일하게 구할 수 있다.\n",
    "$$\\begin{cases} 3x + 5y &= 1 \\\\ \n",
    "                -3x + 2y &= 6 \\end{cases}$$\n",
    "    * 가감법, 대입법 등의 이원일차연립방정식 해법을 사용해서 손으로 풀면 $y=1, x=-\\frac{4}{3}$ 두 해를 구할 수 있다."
   ]
  },
  {
   "cell_type": "markdown",
   "metadata": {},
   "source": [
    "### 1.1. 파이썬 넘파이로 풀어보기\n",
    "\n",
    "영혼이 없는 상기 이원일차 연립방정식을 파이썬이 알아먹기 좋은 형태, 행렬로 표현한다.\n",
    "\n",
    "$$ \\begin{bmatrix} 3 & 5 \\\\ \n",
    "                   -3 & 2 \\end{bmatrix} \\times \n",
    "   \\left[ \\begin{array}{c} x \\\\ \n",
    "                 y \\end{array} \\right] =                  \n",
    "   \\left[ \\begin{array}{c} 1 \\\\ \n",
    "                 6 \\end{array} \\right] \n",
    "$$\n",
    "\n",
    "행렬표기법으로 표현하면 $AX=B$ 가 되고, 이원일차 연립방정식의 해는 $X=A^{-1} B$가 된다."
   ]
  },
  {
   "cell_type": "code",
   "execution_count": 3,
   "metadata": {
    "collapsed": false
   },
   "outputs": [
    {
     "name": "stdout",
     "output_type": "stream",
     "text": [
      "[[-1.33333333]\n",
      " [ 1.        ]]\n"
     ]
    }
   ],
   "source": [
    "import numpy as np\n",
    "\n",
    "A = np.matrix([[3,5],\n",
    "               [-3,2]])\n",
    "B = np.matrix([[1],\n",
    "               [6]])\n",
    "\n",
    "X = A**(-1)*B\n",
    "print X"
   ]
  },
  {
   "cell_type": "markdown",
   "metadata": {},
   "source": [
    "### 1.2. 넘파이 내부함수 활용\n",
    "\n",
    "\n",
    "$X=A^{-1} B$ 수식을 바로 넣어 계산하는 대신에, 역행렬을 계산하는 넘파이 내부 함수를 사용하여 해를 바로 구할 수도 있다."
   ]
  },
  {
   "cell_type": "code",
   "execution_count": 4,
   "metadata": {
    "collapsed": false
   },
   "outputs": [
    {
     "name": "stdout",
     "output_type": "stream",
     "text": [
      "[[-1.33333333]\n",
      " [ 1.        ]]\n"
     ]
    }
   ],
   "source": [
    "sol = np.linalg.inv(A).dot(B)\n",
    "print sol"
   ]
  },
  {
   "cell_type": "markdown",
   "metadata": {},
   "source": [
    "## 2. 행렬 기본 연산\n",
    "\n",
    "행렬 두개 $J$와 $H$를 정의하자. \n",
    "\n",
    "$$ J = \\begin{bmatrix} 1 & 1 \\\\ \n",
    "                   0 & 1 \\end{bmatrix}, \n",
    "   H = \\begin{bmatrix} 2 & 0 \\\\ \n",
    "                   3 & 1 \\end{bmatrix}$$ \n",
    "\n",
    "정의된 두 행렬에 대한 사칙연산을 수행한다.\n",
    "\n",
    "### 2.1.행렬 덧셈\n",
    "\n",
    "$J+H$ 를 손으로 계산하면 다음과 같다.\n",
    "\n",
    "$$ \\begin{bmatrix} 1 & 1 \\\\ \n",
    "                   0 & 1 \\end{bmatrix} + \n",
    "   \\begin{bmatrix} 2 & 0 \\\\ \n",
    "                   3 & 1 \\end{bmatrix} =\n",
    "   \\begin{bmatrix} 3 & 1 \\\\ \n",
    "                   3 & 2 \\end{bmatrix}\n",
    "$$\n",
    "\n",
    "넘파이를 사용해서 코드로 계산하면 다음과 같다."
   ]
  },
  {
   "cell_type": "code",
   "execution_count": 8,
   "metadata": {
    "collapsed": false
   },
   "outputs": [
    {
     "name": "stdout",
     "output_type": "stream",
     "text": [
      "[[3 1]\n",
      " [3 2]]\n"
     ]
    }
   ],
   "source": [
    "from numpy  import *\n",
    "\n",
    "J = array( [[1,1],\n",
    "            [0,1]] )\n",
    "H = array( [[2,0],\n",
    "            [3,1]] )\n",
    "print J+H"
   ]
  },
  {
   "cell_type": "markdown",
   "metadata": {},
   "source": [
    "### 2.2.행렬 뺄셈\n",
    "\n",
    "$J-H$ 를 손으로 계산하면 다음과 같다.\n",
    "\n",
    "$$ \\begin{bmatrix} 1 & 1 \\\\ \n",
    "                   0 & 1 \\end{bmatrix} - \n",
    "   \\begin{bmatrix} 2 & 0 \\\\ \n",
    "                   3 & 1 \\end{bmatrix} =\n",
    "   \\begin{bmatrix} -1 & 1 \\\\ \n",
    "                   -3 & 0 \\end{bmatrix}\n",
    "$$\n",
    "\n",
    "넘파이를 사용해서 코드로 계산하면 다음과 같다."
   ]
  },
  {
   "cell_type": "code",
   "execution_count": 9,
   "metadata": {
    "collapsed": false
   },
   "outputs": [
    {
     "name": "stdout",
     "output_type": "stream",
     "text": [
      "[[-1  1]\n",
      " [-3  0]]\n"
     ]
    }
   ],
   "source": [
    "print J-H"
   ]
  },
  {
   "cell_type": "markdown",
   "metadata": {},
   "source": [
    "### 2.3. 스칼라 행렬 곱셈\n",
    "\n",
    "스칼라 $\\lambda$를 2로 놓고, $\\lambda \\times J$ 를 손으로 계산하면 다음과 같다.\n",
    "\n",
    "$$ 2 \\times \n",
    "   \\begin{bmatrix} 1 & 1 \\\\ \n",
    "                   0 & 1 \\end{bmatrix} =\n",
    "   \\begin{bmatrix} 2 & 2 \\\\ \n",
    "                   0 & 2 \\end{bmatrix}\n",
    "$$\n",
    "\n",
    "넘파이를 사용해서 코드로 계산하면 다음과 같다."
   ]
  },
  {
   "cell_type": "code",
   "execution_count": 14,
   "metadata": {
    "collapsed": false
   },
   "outputs": [
    {
     "name": "stdout",
     "output_type": "stream",
     "text": [
      "[[2 2]\n",
      " [0 2]]\n"
     ]
    }
   ],
   "source": [
    "print 2*J"
   ]
  },
  {
   "cell_type": "markdown",
   "metadata": {},
   "source": [
    "### 2.4. 행렬 원소별 곱셈과 행렬곱셈\n",
    "\n",
    "행렬 원소들마다 곱하는 곱셈이 있는 반면에, 내적으로 행렬을 계산하는 방식이 있다.\n",
    "\n",
    "#### 2.4.1. 행렬 원소들마다 곱하는 곱셈\n",
    "\n",
    "먼저, 원소들만 순차적으로 계산하는 것을 먼저 살펴보자. $J * H$ 를 손으로 계산하면 다음과 같다.\n",
    "\n",
    "$$ \\begin{bmatrix} 1 & 1 \\\\ \n",
    "                   0 & 1 \\end{bmatrix} * \n",
    "   \\begin{bmatrix} 2 & 0 \\\\ \n",
    "                   3 & 1 \\end{bmatrix} =\n",
    "   \\begin{bmatrix} 2 & 0 \\\\ \n",
    "                   0 & 1 \\end{bmatrix}\n",
    "$$\n",
    "\n",
    "넘파이를 사용해서 코드로 계산하면 다음과 같다. 내적에는 `dot()` 함수가 사용된다.\n",
    "\n",
    "`*` 연산자를 사용하게 되면 $J$ 행렬 첫번째 원소와 $H$ 행렬 첫번째 원소를 곱하기 방식을 모든 행렬 원소들마다 반복한다. 따라서, $J_{11} \\times H_{11} = 1 \\times 2 = 2$, $\\cdots$ $J_{22} \\times H_{22} = 1 \\times 1 = $이 된다.  "
   ]
  },
  {
   "cell_type": "code",
   "execution_count": 21,
   "metadata": {
    "collapsed": false
   },
   "outputs": [
    {
     "name": "stdout",
     "output_type": "stream",
     "text": [
      "[[2 0]\n",
      " [0 1]]\n"
     ]
    }
   ],
   "source": [
    "print J*H"
   ]
  },
  {
   "cell_type": "markdown",
   "metadata": {},
   "source": [
    "#### 2.4.2. 행렬 곱셈\n",
    "\n",
    "$J \\times H$ 를 손으로 계산하면 다음과 같다.\n",
    "\n",
    "$$ \\begin{bmatrix} 1 & 1 \\\\ \n",
    "                   0 & 1 \\end{bmatrix} \\times \n",
    "   \\begin{bmatrix} 2 & 0 \\\\ \n",
    "                   3 & 1 \\end{bmatrix} =\n",
    "   \\begin{bmatrix} 5 & 1 \\\\ \n",
    "                   3 & 1 \\end{bmatrix}\n",
    "$$\n",
    "\n",
    "넘파이를 사용해서 코드로 계산하면 다음과 같다. 행렬곱셈 내적에는 `dot()` 함수가 사용된다.\n",
    "\n",
    "`*` 연산자를 사용하게 되면 $J$ 행렬 첫번째 행과 $H$ 행렬 첫열 요소를 곱하기를 동일한 방식으로 반복하게 된다.\n",
    "따라서, $J_{11} \\times H_{11} + J_{12} \\times H_{12} = 1 \\times 2 + 1 \\times 3 = 2 + 3 = 5$ 가 되고 이 값이 행렬곱셈으로 생성되는 결과행렬의 첫번째 행, 첫번째열 원소로 들어간다. \n"
   ]
  },
  {
   "cell_type": "code",
   "execution_count": 22,
   "metadata": {
    "collapsed": false
   },
   "outputs": [
    {
     "name": "stdout",
     "output_type": "stream",
     "text": [
      "[[5 1]\n",
      " [3 1]]\n"
     ]
    }
   ],
   "source": [
    "print dot(J, H)"
   ]
  },
  {
   "cell_type": "code",
   "execution_count": null,
   "metadata": {
    "collapsed": true
   },
   "outputs": [],
   "source": []
  }
 ],
 "metadata": {
  "kernelspec": {
   "display_name": "Python 2",
   "language": "python",
   "name": "python2"
  },
  "language_info": {
   "codemirror_mode": {
    "name": "ipython",
    "version": 2
   },
   "file_extension": ".py",
   "mimetype": "text/x-python",
   "name": "python",
   "nbconvert_exporter": "python",
   "pygments_lexer": "ipython2",
   "version": "2.7.11"
  }
 },
 "nbformat": 4,
 "nbformat_minor": 0
}
