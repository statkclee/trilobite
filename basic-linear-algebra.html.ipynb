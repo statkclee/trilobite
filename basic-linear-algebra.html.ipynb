{
 "cells": [
  {
   "cell_type": "markdown",
   "metadata": {},
   "source": [
    "## 1. 중학교 시절을 회고하며...\n",
    "\n",
    "대수를 사용해서 미지의 수 $x$ 한개를 놓고 푸는 것을 넘어, 미지수를 두개 넣고 방정식을 푸는 것을 이원일차 연립방정식이라고 부른다.\n",
    "\n",
    "* 미지수 $x$가 하나일 경우 수식이 하나 주어지면 미지수를 구할 수 있다.\n",
    "    * 예를 들어, 미지수 $x$가 하나, 수식이 하나 $x-3=4$ 주어지면, $x=7$\n",
    "* 미지수 $x$가 두개인 경우 수식이 최수 두개(두 수식도 일정 조건이 만족된다고 가정하면) 주어야 미지수 두개를 유일하게 구할 수 있다.\n",
    "$$\\begin{cases} 3x + 5y &= 1 \\\\ \n",
    "                -3x + 2y &= 6 \\end{cases}$$\n",
    "    * 가감법, 대입법 등의 이원일차연립방정식 해법을 사용해서 손으로 풀면 $y=1, x=-\\frac{4}{3}$ 두 해를 구할 수 있다."
   ]
  },
  {
   "cell_type": "markdown",
   "metadata": {},
   "source": [
    "### 1.1. 파이썬 넘파이로 풀어보기\n",
    "\n",
    "영혼이 없는 상기 이원일차 연립방정식을 파이썬이 알아먹기 좋은 형태, 행렬로 표현한다.\n",
    "\n",
    "$$ \\begin{bmatrix} 3 & 5 \\\\ \n",
    "                   -3 & 2 \\end{bmatrix} \\times \n",
    "   \\left[ \\begin{array}{c} x \\\\ \n",
    "                 y \\end{array} \\right] =                  \n",
    "   \\left[ \\begin{array}{c} 1 \\\\ \n",
    "                 6 \\end{array} \\right] \n",
    "$$\n",
    "\n",
    "행렬표기법으로 표현하면 $AX=B$ 가 되고, 이원일차 연립방정식의 해는 $X=A^{-1} B$가 된다."
   ]
  },
  {
   "cell_type": "code",
   "execution_count": 3,
   "metadata": {
    "collapsed": false
   },
   "outputs": [
    {
     "name": "stdout",
     "output_type": "stream",
     "text": [
      "[[-1.33333333]\n",
      " [ 1.        ]]\n"
     ]
    }
   ],
   "source": [
    "import numpy as np\n",
    "\n",
    "A = np.matrix([[3,5],\n",
    "               [-3,2]])\n",
    "B = np.matrix([[1],\n",
    "               [6]])\n",
    "\n",
    "X = A**(-1)*B\n",
    "print X"
   ]
  },
  {
   "cell_type": "markdown",
   "metadata": {},
   "source": [
    "### 1.2. 넘파이 내부함수 활용\n",
    "\n",
    "\n",
    "$X=A^{-1} B$ 수식을 바로 넣어 계산하는 대신에, 역행렬을 계산하는 넘파이 내부 함수를 사용하여 해를 바로 구할 수도 있다."
   ]
  },
  {
   "cell_type": "code",
   "execution_count": 4,
   "metadata": {
    "collapsed": false
   },
   "outputs": [
    {
     "name": "stdout",
     "output_type": "stream",
     "text": [
      "[[-1.33333333]\n",
      " [ 1.        ]]\n"
     ]
    }
   ],
   "source": [
    "sol = np.linalg.inv(A).dot(B)\n",
    "print sol"
   ]
  },
  {
   "cell_type": "code",
   "execution_count": null,
   "metadata": {
    "collapsed": true
   },
   "outputs": [],
   "source": []
  }
 ],
 "metadata": {
  "kernelspec": {
   "display_name": "Python 2",
   "language": "python",
   "name": "python2"
  },
  "language_info": {
   "codemirror_mode": {
    "name": "ipython",
    "version": 2
   },
   "file_extension": ".py",
   "mimetype": "text/x-python",
   "name": "python",
   "nbconvert_exporter": "python",
   "pygments_lexer": "ipython2",
   "version": "2.7.11"
  }
 },
 "nbformat": 4,
 "nbformat_minor": 0
}
